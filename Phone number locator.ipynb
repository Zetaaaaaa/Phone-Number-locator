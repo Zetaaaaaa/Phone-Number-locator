{
 "cells": [
  {
   "cell_type": "code",
   "execution_count": 6,
   "id": "4f77d681",
   "metadata": {},
   "outputs": [
    {
     "name": "stdout",
     "output_type": "stream",
     "text": [
      "Enter the phone number with country code : +918413835275\n",
      "timezone : ('Asia/Calcutta',)\n",
      "location : India\n",
      "service provider : Airtel\n"
     ]
    }
   ],
   "source": [
    "import phonenumbers\n",
    "from phonenumbers import timezone\n",
    "from phonenumbers import geocoder\n",
    "from phonenumbers import carrier\n",
    " \n",
    "number = input(\"Enter the phone number with country code : \")\n",
    " \n",
    "phoneNumber = phonenumbers.parse(number)\n",
    " \n",
    "timeZone = timezone.time_zones_for_number(phoneNumber)\n",
    "print(\"timezone : \"+str(timeZone))\n",
    " \n",
    "geolocation = geocoder.description_for_number(phoneNumber,\"en\")\n",
    "print(\"location : \"+geolocation)\n",
    " \n",
    "service = carrier.name_for_number(phoneNumber,\"en\")\n",
    "print(\"service provider : \"+service)"
   ]
  },
  {
   "cell_type": "code",
   "execution_count": 2,
   "id": "601209d7",
   "metadata": {},
   "outputs": [
    {
     "name": "stdout",
     "output_type": "stream",
     "text": [
      "Collecting django-phonenumber-field\n",
      "  Downloading django_phonenumber_field-7.3.0-py3-none-any.whl (66 kB)\n",
      "     -------------------------------------- 66.5/66.5 kB 907.5 kB/s eta 0:00:00\n",
      "Collecting Django>=3.2\n",
      "  Downloading Django-4.2.10-py3-none-any.whl (8.0 MB)\n",
      "     ---------------------------------------- 8.0/8.0 MB 12.2 MB/s eta 0:00:00\n",
      "Collecting sqlparse>=0.3.1\n",
      "  Downloading sqlparse-0.4.4-py3-none-any.whl (41 kB)\n",
      "     ---------------------------------------- 41.2/41.2 kB ? eta 0:00:00\n",
      "Collecting asgiref<4,>=3.6.0\n",
      "  Downloading asgiref-3.7.2-py3-none-any.whl (24 kB)\n",
      "Requirement already satisfied: tzdata in c:\\users\\kiit\\anaconda3\\lib\\site-packages (from Django>=3.2->django-phonenumber-field) (2023.3)\n",
      "Requirement already satisfied: typing-extensions>=4 in c:\\users\\kiit\\anaconda3\\lib\\site-packages (from asgiref<4,>=3.6.0->Django>=3.2->django-phonenumber-field) (4.9.0)\n",
      "Installing collected packages: sqlparse, asgiref, Django, django-phonenumber-field\n",
      "Successfully installed Django-4.2.10 asgiref-3.7.2 django-phonenumber-field-7.3.0 sqlparse-0.4.4\n",
      "Note: you may need to restart the kernel to use updated packages.\n"
     ]
    }
   ],
   "source": [
    "pip install django-phonenumber-field"
   ]
  },
  {
   "cell_type": "code",
   "execution_count": 3,
   "id": "31d9d6d3",
   "metadata": {},
   "outputs": [
    {
     "name": "stdout",
     "output_type": "stream",
     "text": [
      "Collecting django-phonenumbers\n",
      "  Downloading django_phonenumbers-1.0.1-py3-none-any.whl (2.6 MB)\n",
      "     ---------------------------------------- 2.6/2.6 MB 5.8 MB/s eta 0:00:00\n",
      "Collecting phonenumbers\n",
      "  Downloading phonenumbers-8.13.30-py2.py3-none-any.whl (2.6 MB)\n",
      "     ---------------------------------------- 2.6/2.6 MB 18.4 MB/s eta 0:00:00\n",
      "Installing collected packages: phonenumbers, django-phonenumbers\n",
      "Successfully installed django-phonenumbers-1.0.1 phonenumbers-8.13.30\n",
      "Note: you may need to restart the kernel to use updated packages.\n"
     ]
    }
   ],
   "source": [
    "pip install django-phonenumbers"
   ]
  },
  {
   "cell_type": "code",
   "execution_count": null,
   "id": "8fa9e23c",
   "metadata": {},
   "outputs": [],
   "source": []
  }
 ],
 "metadata": {
  "kernelspec": {
   "display_name": "Python 3 (ipykernel)",
   "language": "python",
   "name": "python3"
  },
  "language_info": {
   "codemirror_mode": {
    "name": "ipython",
    "version": 3
   },
   "file_extension": ".py",
   "mimetype": "text/x-python",
   "name": "python",
   "nbconvert_exporter": "python",
   "pygments_lexer": "ipython3",
   "version": "3.9.13"
  }
 },
 "nbformat": 4,
 "nbformat_minor": 5
}
